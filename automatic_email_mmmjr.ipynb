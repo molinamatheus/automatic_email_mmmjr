{
 "cells": [
  {
   "cell_type": "code",
   "execution_count": 7,
   "id": "3703a6a5",
   "metadata": {},
   "outputs": [
    {
     "name": "stdout",
     "output_type": "stream",
     "text": [
      "Requirement already satisfied: pyautogui in c:\\users\\matheus.junior\\anaconda3\\lib\\site-packages (0.9.53)\n"
     ]
    },
    {
     "name": "stderr",
     "output_type": "stream",
     "text": [
      "ERROR: Could not find a version that satisfies the requirement as (from versions: none)\n",
      "ERROR: No matching distribution found for as\n"
     ]
    },
    {
     "name": "stdout",
     "output_type": "stream",
     "text": [
      "Requirement already satisfied: pyperclip in c:\\users\\matheus.junior\\anaconda3\\lib\\site-packages (1.8.2)\n"
     ]
    },
    {
     "name": "stderr",
     "output_type": "stream",
     "text": [
      "ERROR: Could not find a version that satisfies the requirement as (from versions: none)\n",
      "ERROR: No matching distribution found for as\n"
     ]
    }
   ],
   "source": [
    "!pip install pyautogui as pg\n",
    "!pip install pyperclip as pc"
   ]
  },
  {
   "cell_type": "code",
   "execution_count": 25,
   "id": "97bba1af",
   "metadata": {},
   "outputs": [
    {
     "ename": "KeyboardInterrupt",
     "evalue": "",
     "output_type": "error",
     "traceback": [
      "\u001b[1;31m---------------------------------------------------------------------------\u001b[0m",
      "\u001b[1;31mKeyboardInterrupt\u001b[0m                         Traceback (most recent call last)",
      "\u001b[1;32mC:\\Users\\MATHEU~1.JUN\\AppData\\Local\\Temp/ipykernel_10152/38444782.py\u001b[0m in \u001b[0;36m<module>\u001b[1;34m\u001b[0m\n\u001b[0;32m     23\u001b[0m \u001b[1;31m#pyautogui.click(x=864, y=527, clicks=1)\u001b[0m\u001b[1;33m\u001b[0m\u001b[1;33m\u001b[0m\u001b[0m\n\u001b[0;32m     24\u001b[0m \u001b[1;33m\u001b[0m\u001b[0m\n\u001b[1;32m---> 25\u001b[1;33m \u001b[0mtime\u001b[0m\u001b[1;33m.\u001b[0m\u001b[0msleep\u001b[0m\u001b[1;33m(\u001b[0m\u001b[1;36m8\u001b[0m\u001b[1;33m)\u001b[0m\u001b[1;33m\u001b[0m\u001b[1;33m\u001b[0m\u001b[0m\n\u001b[0m\u001b[0;32m     26\u001b[0m \u001b[1;33m\u001b[0m\u001b[0m\n\u001b[0;32m     27\u001b[0m \u001b[0mtabela\u001b[0m \u001b[1;33m=\u001b[0m \u001b[0mpd\u001b[0m\u001b[1;33m.\u001b[0m\u001b[0mread_excel\u001b[0m\u001b[1;33m(\u001b[0m\u001b[1;34mr'C:\\Users\\matheus.junior\\Downloads\\Vendas - Dez.xlsx'\u001b[0m\u001b[1;33m)\u001b[0m\u001b[1;33m\u001b[0m\u001b[1;33m\u001b[0m\u001b[0m\n",
      "\u001b[1;31mKeyboardInterrupt\u001b[0m: "
     ]
    }
   ],
   "source": [
    "import pyautogui\n",
    "import pyperclip\n",
    "import time\n",
    "import pandas as pd\n",
    "\n",
    "# escrever o passo a passo em PTBR\n",
    "# Entrar no sistema da empresa (no caso o drive)\n",
    "\n",
    "pyautogui.hotkey('ctrl','t')\n",
    "time.sleep(1)\n",
    "pyperclip.copy('https://drive.google.com/drive/folders/149xknr9JvrlEnhNWO49zPcw0PW5icxga')\n",
    "time.sleep(1)\n",
    "pyautogui.hotkey('ctrl','v')\n",
    "time.sleep(1)\n",
    "pyautogui.press('enter')\n",
    "\n",
    "time.sleep(8)\n",
    "\n",
    "pyautogui.click(x=326, y=256, clicks=1)\n",
    "time.sleep(2)\n",
    "pyautogui.click(x=1164, y=158, clicks=1)\n",
    "time.sleep(2)\n",
    "#pyautogui.click(x=864, y=527, clicks=1)\n",
    "\n",
    "time.sleep(8)\n",
    "\n",
    "tabela = pd.read_excel(r'C:\\Users\\matheus.junior\\Downloads\\Vendas - Dez.xlsx')\n",
    "display(tabela)\n",
    "faturamento = tabela['Valor Final'].sum()\n",
    "quantidade = tabela['Quantidade'].sum()\n",
    "display(faturamento)\n",
    "display(quantidade)\n",
    "\n",
    "pyautogui.hotkey('ctrl','t')\n",
    "time.sleep(1)\n",
    "pyperclip.copy('https://mail.google.com/mail/u/0/#inbox')\n",
    "time.sleep(1)\n",
    "pyautogui.hotkey('ctrl','v')\n",
    "pyautogui.press('enter')\n",
    "time.sleep(5)\n",
    "\n",
    "\n",
    "pyautogui.click(x=112, y=176, clicks=1)\n",
    "time.sleep(10)\n",
    "pyautogui.write('matwaqq11@gmail.com')\n",
    "time.sleep(3)\n",
    "pyautogui.press('tab')\n",
    "time.sleep(3)\n",
    "pyautogui.press('tab')\n",
    "time.sleep(3)\n",
    "automação = 'Automação python'\n",
    "time.sleep(3)\n",
    "pyperclip.copy(automação)\n",
    "time.sleep(3)\n",
    "pyautogui.hotkey('ctrl','v')\n",
    "time.sleep(1)\n",
    "pyautogui.press('tab')\n",
    "time.sleep(1)\n",
    "texto = f\"\"\"\n",
    "Prezada, diretoria.\n",
    "\n",
    "Segue a baixo as informações pertinentes referente ao relatório de vendas do dia.\n",
    "\n",
    "O total de faturamento foi: {faturamento}\n",
    "O total de quantidades vendidas foi: {quantidade}\n",
    "\n",
    "Desde ja, agradeço. \n",
    "\n",
    "Matheus Molina.\n",
    "\"\"\"\n",
    "time.sleep(3)\n",
    "pyperclip.copy(texto)\n",
    "time.sleep(10)\n",
    "pyautogui.hotkey('ctrl','v')\n",
    "time.sleep(2)\n",
    "pyautogui.hotkey('ctrl', 'enter')\n",
    "\n"
   ]
  },
  {
   "cell_type": "code",
   "execution_count": 26,
   "id": "4f175b34",
   "metadata": {},
   "outputs": [
    {
     "data": {
      "text/plain": [
       "Point(x=444, y=258)"
      ]
     },
     "execution_count": 26,
     "metadata": {},
     "output_type": "execute_result"
    }
   ],
   "source": [
    "#time.sleep(3)\n",
    "#pyautogui.position()"
   ]
  },
  {
   "cell_type": "markdown",
   "id": "6bcf0b7f",
   "metadata": {},
   "source": []
  }
 ],
 "metadata": {
  "kernelspec": {
   "display_name": "Python 3 (ipykernel)",
   "language": "python",
   "name": "python3"
  },
  "language_info": {
   "codemirror_mode": {
    "name": "ipython",
    "version": 3
   },
   "file_extension": ".py",
   "mimetype": "text/x-python",
   "name": "python",
   "nbconvert_exporter": "python",
   "pygments_lexer": "ipython3",
   "version": "3.9.7"
  }
 },
 "nbformat": 4,
 "nbformat_minor": 5
}
